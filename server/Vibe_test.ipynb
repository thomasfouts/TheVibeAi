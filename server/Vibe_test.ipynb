{
 "cells": [
  {
   "cell_type": "code",
   "execution_count": 1,
   "id": "c546a1fe",
   "metadata": {},
   "outputs": [
    {
     "name": "stderr",
     "output_type": "stream",
     "text": [
      "USER_AGENT environment variable not set, consider setting it to identify your requests.\n"
     ]
    }
   ],
   "source": [
    "# langchain\n",
    "from langchain import hub\n",
    "from langchain_chroma import Chroma\n",
    "from langchain_community.document_loaders import WebBaseLoader\n",
    "from langchain_core.output_parsers import StrOutputParser\n",
    "from langchain_core.runnables import RunnablePassthrough\n",
    "from langchain_openai import OpenAIEmbeddings\n",
    "from langchain_text_splitters import RecursiveCharacterTextSplitter\n",
    "from langchain.prompts import PromptTemplate\n",
    "from langchain_community.chat_models import ChatOpenAI\n",
    "import spotipy\n",
    "\n",
    "# python\n",
    "import getpass\n",
    "import os"
   ]
  },
  {
   "cell_type": "code",
   "execution_count": 2,
   "id": "e912a914",
   "metadata": {},
   "outputs": [
    {
     "name": "stdout",
     "output_type": "stream",
     "text": [
      "Enter your OpenAI API key:  ········\n"
     ]
    },
    {
     "name": "stderr",
     "output_type": "stream",
     "text": [
      "/Users/tfouts/Desktop/VibeApi/myenv/lib/python3.10/site-packages/langsmith/client.py:241: LangSmithMissingAPIKeyWarning: API key must be provided when using hosted LangSmith API\n",
      "  warnings.warn(\n",
      "/Users/tfouts/Desktop/VibeApi/Vibe.py:42: LangChainDeprecationWarning: The class `ChatOpenAI` was deprecated in LangChain 0.0.10 and will be removed in 1.0. An updated version of the class exists in the :class:`~langchain-openai package and should be used instead. To use it run `pip install -U :class:`~langchain-openai` and import as `from :class:`~langchain_openai import ChatOpenAI``.\n",
      "  llm = ChatOpenAI(\n"
     ]
    }
   ],
   "source": [
    "from SpotifyUtils import SpotifyUtils\n",
    "from artistgraph import ArtistGraph\n",
    "from songmanager import SongManager\n",
    "#from Vibe import *\n",
    "from Vibe import Vibe"
   ]
  },
  {
   "cell_type": "code",
   "execution_count": null,
   "id": "ffead760",
   "metadata": {},
   "outputs": [],
   "source": [
    "#Open AI API key:\n"
   ]
  },
  {
   "cell_type": "code",
   "execution_count": 3,
   "id": "69445139-c1f5-4143-b6aa-f7e346f18a32",
   "metadata": {},
   "outputs": [],
   "source": [
    "# setup openai keys\n",
    "if not os.environ.get(\"OPENAI_API_KEY\"):\n",
    "    os.environ[\"OPENAI_API_KEY\"] = getpass.getpass(\"Enter your OpenAI API key: \")"
   ]
  },
  {
   "cell_type": "code",
   "execution_count": null,
   "id": "2a5279d5-5dc3-4713-b926-66a09f514218",
   "metadata": {},
   "outputs": [],
   "source": [
    "access_token = ''"
   ]
  },
  {
   "cell_type": "markdown",
   "id": "f571bf36-927c-4d74-afd7-3b21a1bc283e",
   "metadata": {},
   "source": [
    "## Test path generation\n",
    "* This step is optional!"
   ]
  },
  {
   "cell_type": "code",
   "execution_count": 5,
   "id": "0a0eb466-c14d-4746-9300-c3e1f7aa1fa5",
   "metadata": {},
   "outputs": [],
   "source": [
    "ag = ArtistGraph('data/nodes.js', 'data/edges.js', access_token)\n",
    "sm = SongManager(artist_top_tracks_file='data/artisttoptracks.js', access_token = access_token)"
   ]
  },
  {
   "cell_type": "code",
   "execution_count": 6,
   "id": "7da807f0-85e6-4861-80c8-94301e8a21f1",
   "metadata": {},
   "outputs": [
    {
     "name": "stdout",
     "output_type": "stream",
     "text": [
      "['spotify:artist:6eUKZXaKkcviH0Ku9w2n3V', 'spotify:artist:4phGZZrJZRo4ElhRtViYdl', 'spotify:artist:4bYPcJP5jwMhSivRcqie2n', 'spotify:artist:3Dzj993UEz8Z5ovxuirzFO', 'spotify:artist:1OwarW4LEHnoep20ixRA0y', 'spotify:artist:36QJpDe2go2KgaRleHCDTp']\n",
      "\n",
      "['2DB4DdfCFMw1iaR6JaR03a', '2mKjs6s0Z1imKKb6gOk628', '4CTpAWFg3rFlOBvhMEZDVg', '3s9FRQEyUJoOsijNGiOTQQ', '5hrsqusQlSqlWpvtjJpxPq', '78lgmZwycJ3nzsdgmPPGNx']\n"
     ]
    }
   ],
   "source": [
    "path_ids = ag.get_path('Ed Sheeran', 'Led Zeppelin')\n",
    "print(path_ids)\n",
    "print('')\n",
    "song_path = sm.get_path_of_songs(path_ids)\n",
    "print(song_path)"
   ]
  },
  {
   "cell_type": "markdown",
   "id": "c2e91589-5c98-4241-818f-ed7b28817aeb",
   "metadata": {},
   "source": [
    "## Create Vibe and test transition and playlist generation\n",
    "Todo\n",
    "1. Handle case when queue already exists\n",
    "2. Test more comprehensively\n",
    "3. Don't add current song to queue\n",
    "4. Length of path? Add more by end artist?\n",
    "5. Default shouldn't make a playlist - Only make playlist when prompted"
   ]
  },
  {
   "cell_type": "code",
   "execution_count": 8,
   "id": "1a773068-b7d9-496b-b487-29c023d8f5e7",
   "metadata": {},
   "outputs": [],
   "source": [
    "# Can define the helper classes first, or just create a vibe_instance from the access token\n",
    "# sp_utils = SpotifyUtils(access_token = access_token)\n",
    "# ag = ArtistGraph('data/nodes.js', 'data/edges.js', access_token)\n",
    "# sm = SongManager(artist_top_tracks_file='data/artisttoptracks.js', access_token = access_token)\n",
    "# sp = spotipy.Spotify(auth=access_token)\n",
    "# vibe_instance = Vibe(sp_utils = sp_utils, sp = None, access_token = access_token, artist_graph = ag, song_manager = sm)"
   ]
  },
  {
   "cell_type": "code",
   "execution_count": null,
   "id": "305e8741-1929-495a-8f2a-fde33be11ff9",
   "metadata": {},
   "outputs": [],
   "source": []
  },
  {
   "cell_type": "code",
   "execution_count": 5,
   "id": "c80b826f-1757-4932-bfa5-37dbcd38eef1",
   "metadata": {},
   "outputs": [],
   "source": [
    "vibe_instance = Vibe(access_token = access_token)"
   ]
  },
  {
   "cell_type": "code",
   "execution_count": 6,
   "id": "39b25950-d1c7-480e-b9b8-019c55204a2e",
   "metadata": {},
   "outputs": [],
   "source": [
    "request = \"Play upbeat rap songs by Drake\""
   ]
  },
  {
   "cell_type": "code",
   "execution_count": 7,
   "id": "eec4a408-d88f-4277-8b83-548a88541e2d",
   "metadata": {},
   "outputs": [
    {
     "name": "stdout",
     "output_type": "stream",
     "text": [
      "transition\n",
      "Songs successfully added to the queue.\n"
     ]
    }
   ],
   "source": [
    "vibe_instance.handle_request(request)"
   ]
  },
  {
   "cell_type": "code",
   "execution_count": 6,
   "id": "4acf7fe0-b6d2-44df-9e72-1c8a3889fcf3",
   "metadata": {},
   "outputs": [],
   "source": [
    "request = \"Make a playlist with 10 upbeat songs from The Weeknd\""
   ]
  },
  {
   "cell_type": "code",
   "execution_count": 7,
   "id": "2b30963b-fa05-49ed-8328-ba10aa559c1f",
   "metadata": {},
   "outputs": [
    {
     "name": "stdout",
     "output_type": "stream",
     "text": [
      "generate\n",
      "def solution():\n",
      "    \"\"\"Make a playlist with 10 upbeat songs from The Weeknd\"\"\"\n",
      "    # Search for The Weeknd's tracks\n",
      "    search_results = sp.search(q='The Weeknd', type='track', limit=50)\n",
      "    tracks = search_results['tracks']['items']\n",
      "    \n",
      "    # Get audio features for the tracks\n",
      "    track_uris = [track['uri'] for track in tracks]\n",
      "    audio_features = sp.audio_features(track_uris)\n",
      "    \n",
      "    # Combine track info with audio features\n",
      "    track_info = []\n",
      "    for track, features in zip(tracks, audio_features):\n",
      "        track_info.append({  \n",
      "            'song_name': track['name'],\n",
      "            'artist_name': track['artists'][0]['name'],\n",
      "            'uri': track['uri'],\n",
      "            'valence': features['valence']\n",
      "        })\n",
      "        \n",
      "    # Sort tracks by valence (upbeatness)\n",
      "    sorted_tracks = sorted(track_info, key=lambda x: x['valence'], reverse=True)\n",
      "    \n",
      "    # Collect unique song names\n",
      "    unique_tracks = []\n",
      "    seen_names = set()\n",
      "    for track in sorted_tracks:\n",
      "        if track['song_name'] not in seen_names:\n",
      "            unique_tracks.append(track)\n",
      "            seen_names.add(track['song_name'])\n",
      "        if len(unique_tracks) == 10:\n",
      "            break\n",
      "    \n",
      "    # Return the top 10 unique upbeat tracks\n",
      "    output_tracks = [track['uri'] for track in unique_tracks]\n",
      "    return output_tracks\n",
      "Adding songs to playlist\n"
     ]
    }
   ],
   "source": [
    "vibe_instance.handle_request(request)"
   ]
  },
  {
   "cell_type": "code",
   "execution_count": null,
   "id": "f3bd32ee-a5f0-4ccc-b34c-a480663f76be",
   "metadata": {},
   "outputs": [],
   "source": []
  },
  {
   "cell_type": "code",
   "execution_count": null,
   "id": "38d1d260-9ab2-4828-b4ab-e693a6ae0862",
   "metadata": {},
   "outputs": [],
   "source": []
  }
 ],
 "metadata": {
  "kernelspec": {
   "display_name": "VibeAPI env1",
   "language": "python",
   "name": "myenv"
  },
  "language_info": {
   "codemirror_mode": {
    "name": "ipython",
    "version": 3
   },
   "file_extension": ".py",
   "mimetype": "text/x-python",
   "name": "python",
   "nbconvert_exporter": "python",
   "pygments_lexer": "ipython3",
   "version": "3.10.12"
  }
 },
 "nbformat": 4,
 "nbformat_minor": 5
}
