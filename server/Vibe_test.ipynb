{
 "cells": [
  {
   "cell_type": "code",
   "execution_count": 1,
   "id": "c546a1fe",
   "metadata": {},
   "outputs": [],
   "source": [
    "import json\n",
    "import spotipy\n",
    "import requests\n",
    "import base64\n",
    "import time\n",
    "\n",
    "import spotipy\n",
    "\n",
    "# python\n",
    "import getpass\n",
    "import os\n",
    "import time"
   ]
  },
  {
   "cell_type": "markdown",
   "id": "fbd82d62",
   "metadata": {},
   "source": [
    "## Connect to OpenAI and Spotify"
   ]
  },
  {
   "cell_type": "code",
   "execution_count": 2,
   "id": "1bcc2f03",
   "metadata": {},
   "outputs": [],
   "source": [
    "# setup openai keys\n",
    "OPEN_AI_KEY = ''\n",
    "if not os.environ.get(\"OPENAI_API_KEY\"):\n",
    "    os.environ[\"OPENAI_API_KEY\"] = OPEN_AI_KEY\n",
    "if not os.environ.get(\"OPENAI_API_KEY\"):\n",
    "    print('failed')"
   ]
  },
  {
   "cell_type": "code",
   "execution_count": 3,
   "id": "29c7dc8e",
   "metadata": {},
   "outputs": [],
   "source": [
    "access_token ='BQBSQxHvl69KBUVQRnOkYJIG-3g8_Otm6YQBgXbH7gHNqmcL7gluBV4TY8QHMZ4SST1hIqmko-grnyA48lAT2xU95vZKbsCvFFY5IH-rMTGhl-hP3K4degegeMHfot18yV2sJx8VevZ1WGhDQA9T_7zHXtzRsrc5Dsgd4yHzwj0gDLVMXm4YEk1SI7zQc5gl80z4aQgxvFqTLDPfoqW8uilUFZqblXuwhaxrX6GYFPRPsWiT28Yxmhkg11Sf1EhFFh_tprnBpnY1hlz96BsOVPQ'\n",
    "sp = spotipy.Spotify(auth=access_token)"
   ]
  },
  {
   "cell_type": "markdown",
   "id": "7e5cc273",
   "metadata": {},
   "source": [
    "## Vibe Tests"
   ]
  },
  {
   "cell_type": "code",
   "execution_count": 4,
   "id": "3d04acd0",
   "metadata": {},
   "outputs": [
    {
     "name": "stderr",
     "output_type": "stream",
     "text": [
      "USER_AGENT environment variable not set, consider setting it to identify your requests.\n"
     ]
    },
    {
     "name": "stdout",
     "output_type": "stream",
     "text": [
      "Vibe loaded\n"
     ]
    },
    {
     "name": "stderr",
     "output_type": "stream",
     "text": [
      "/Users/tfouts/Desktop/TheVibeAi/server/VibeUtils.py:27: LangChainDeprecationWarning: The class `ChatOpenAI` was deprecated in LangChain 0.0.10 and will be removed in 1.0. An updated version of the class exists in the :class:`~langchain-openai package and should be used instead. To use it run `pip install -U :class:`~langchain-openai` and import as `from :class:`~langchain_openai import ChatOpenAI``.\n",
      "  return ChatOpenAI(\n"
     ]
    }
   ],
   "source": [
    "from Vibe import Vibe"
   ]
  },
  {
   "cell_type": "code",
   "execution_count": 5,
   "id": "7d7001da",
   "metadata": {},
   "outputs": [
    {
     "name": "stdout",
     "output_type": "stream",
     "text": [
      "Creating Vibe\n",
      "Creating Spotify instance\n",
      "Creating Spotify utils\n",
      "Creating artist graph\n",
      "loading constants\n",
      "loading graph\n",
      "finished nodes, starting edges\n",
      "Creating song manager\n",
      "9.879680871963501\n"
     ]
    }
   ],
   "source": [
    "#Takes around 10 seconds to create\n",
    "t = time.time()\n",
    "vibe_instance = Vibe(access_token = access_token)\n",
    "print(time.time() - t)"
   ]
  },
  {
   "cell_type": "code",
   "execution_count": 6,
   "id": "170c383a",
   "metadata": {},
   "outputs": [],
   "source": [
    "request1 = \"Make a playlist with 10 upbeat songs from The Weeknd\"\n",
    "request2 = \"Play rap songs I can listen to before a football game\"\n",
    "request3 = \"Make a playlist of smooth rap music\"\n",
    "request4 = \"Play something my mom would would like dancing to\""
   ]
  },
  {
   "cell_type": "code",
   "execution_count": 8,
   "id": "a89037c3",
   "metadata": {},
   "outputs": [
    {
     "name": "stdout",
     "output_type": "stream",
     "text": [
      "generate\n",
      "def solution():\n",
      "    \"\"\"Make a playlist with 10 upbeat songs from The Weeknd\"\"\"\n",
      "    # Search for The Weeknd's tracks\n",
      "    search_results = sp.search(q='The Weeknd', type='track', limit=50)\n",
      "    tracks = search_results['tracks']['items']\n",
      "    \n",
      "    # Get audio features for the tracks\n",
      "    track_uris = [track['uri'] for track in tracks]\n",
      "    audio_features = sp.audio_features(track_uris)\n",
      "    \n",
      "    # Combine track info with audio features\n",
      "    track_info = []\n",
      "    for track, features in zip(tracks, audio_features):\n",
      "        track_info.append({  \n",
      "            'song_name': track['name'],\n",
      "            'artist_name': track['artists'][0]['name'],\n",
      "            'uri': track['uri'],\n",
      "            'valence': features['valence']\n",
      "        })\n",
      "        \n",
      "    # Sort tracks by valence (upbeatness)\n",
      "    sorted_tracks = sorted(track_info, key=lambda x: x['valence'], reverse=True)\n",
      "    \n",
      "    # Ensure no duplicate song names and limit to 10 songs\n",
      "    unique_tracks = []\n",
      "    seen_names = set()\n",
      "    for track in sorted_tracks:\n",
      "        if track['song_name'] not in seen_names:\n",
      "            unique_tracks.append(track['uri'])\n",
      "            seen_names.add(track['song_name'])\n",
      "        if len(unique_tracks) == 10:\n",
      "            break\n",
      "    \n",
      "    return unique_tracks\n",
      "Adding songs to playlist\n",
      "time to execute: 9.352636098861694\n"
     ]
    }
   ],
   "source": [
    "t = time.time()\n",
    "vibe_instance.handle_request(request1)\n",
    "print('time to execute: ' + str(time.time()-t))"
   ]
  },
  {
   "cell_type": "code",
   "execution_count": 9,
   "id": "5c5288dd",
   "metadata": {},
   "outputs": [
    {
     "name": "stdout",
     "output_type": "stream",
     "text": [
      "transition\n",
      "Songs successfully added to the queue.\n",
      "time to execute: 2.9249489307403564\n"
     ]
    }
   ],
   "source": [
    "t = time.time()\n",
    "vibe_instance.handle_request(request2)\n",
    "print('time to execute: ' + str(time.time()-t))"
   ]
  },
  {
   "cell_type": "code",
   "execution_count": 10,
   "id": "1473d3f6",
   "metadata": {},
   "outputs": [
    {
     "name": "stdout",
     "output_type": "stream",
     "text": [
      "generate\n",
      "def solution():\n",
      "    \"\"\"Make a playlist of smooth rap music\"\"\"\n",
      "    # Search for rap tracks\n",
      "    search_results = sp.search(q='genre:rap', type='track', limit=50)\n",
      "    tracks = search_results['tracks']['items']\n",
      "    \n",
      "    # Get audio features for the tracks\n",
      "    track_uris = [track['uri'] for track in tracks]\n",
      "    audio_features = sp.audio_features(track_uris)\n",
      "    \n",
      "    # Combine track info with audio features\n",
      "    track_info = []\n",
      "    for track, features in zip(tracks, audio_features):\n",
      "        track_info.append({\n",
      "            'song_name': track['name'],\n",
      "            'artist_name': track['artists'][0]['name'],\n",
      "            'uri': track['uri'],\n",
      "            'acousticness': features['acousticness'],\n",
      "            'valence': features['valence'],\n",
      "            'tempo': features['tempo']\n",
      "        })\n",
      "    \n",
      "    # Filter and sort tracks for smoothness (high acousticness, moderate valence, moderate tempo)\n",
      "    smooth_tracks = sorted(track_info, key=lambda x: (x['acousticness'], -abs(x['valence'] - 0.5), -abs(x['tempo'] - 90)), reverse=True)\n",
      "    \n",
      "    # Select up to 10 unique tracks by name\n",
      "    output_tracks = []\n",
      "    seen_names = set()\n",
      "    for track in smooth_tracks:\n",
      "        if track['song_name'] not in seen_names:\n",
      "            output_tracks.append(track['uri'])\n",
      "            seen_names.add(track['song_name'])\n",
      "        if len(output_tracks) == 10:\n",
      "            break\n",
      "    \n",
      "    return output_tracks\n",
      "Adding songs to playlist\n",
      "time to execute: 8.037760972976685\n"
     ]
    }
   ],
   "source": [
    "t = time.time()\n",
    "vibe_instance.handle_request(request3)\n",
    "print('time to execute: ' + str(time.time()-t))"
   ]
  },
  {
   "cell_type": "code",
   "execution_count": 11,
   "id": "71ad6d84",
   "metadata": {},
   "outputs": [
    {
     "name": "stdout",
     "output_type": "stream",
     "text": [
      "transition\n",
      "Songs successfully added to the queue.\n",
      "time to execute: 5.766688823699951\n"
     ]
    }
   ],
   "source": [
    "t = time.time()\n",
    "vibe_instance.handle_request(request4)\n",
    "print('time to execute: ' + str(time.time()-t))"
   ]
  },
  {
   "cell_type": "code",
   "execution_count": null,
   "id": "c079b6fe",
   "metadata": {},
   "outputs": [],
   "source": []
  },
  {
   "cell_type": "code",
   "execution_count": null,
   "id": "6f3cc035",
   "metadata": {},
   "outputs": [],
   "source": []
  },
  {
   "cell_type": "markdown",
   "id": "bae9b17d",
   "metadata": {},
   "source": [
    "## Get Access key"
   ]
  },
  {
   "cell_type": "code",
   "execution_count": 15,
   "id": "139c399e",
   "metadata": {},
   "outputs": [],
   "source": [
    "import requests\n",
    "import base64"
   ]
  },
  {
   "cell_type": "code",
   "execution_count": 21,
   "id": "cb8ed88a",
   "metadata": {},
   "outputs": [],
   "source": [
    "CLIENT_ID = \"\"\n",
    "CLIENT_SECRET = \"\""
   ]
  },
  {
   "cell_type": "code",
   "execution_count": 18,
   "id": "239a21c3",
   "metadata": {},
   "outputs": [
    {
     "name": "stdout",
     "output_type": "stream",
     "text": [
      "Authorization URL: https://accounts.spotify.com/authorize?response_type=code&client_id=8091b76087254dddb35bf790dacad25e&redirect_uri=http%3A%2F%2F127.0.0.1%3A5000%2Fcallback&scope=user-read-playback-state+user-modify-playback-state+user-read-currently-playing+user-library-read+playlist-read-private+playlist-modify-private+playlist-modify-public+user-read-recently-played+user-top-read&show_dialog=true\n"
     ]
    }
   ],
   "source": [
    "import urllib.parse\n",
    "\n",
    "#CLIENT_ID = \"YOUR_CLIENT_ID\"\n",
    "REDIRECT_URI = \"http://127.0.0.1:5000/callback\"\n",
    "SCOPE = 'user-read-playback-state user-modify-playback-state user-read-currently-playing user-library-read playlist-read-private playlist-modify-private playlist-modify-public user-read-recently-played user-top-read'\n",
    "AUTH_URL = \"https://accounts.spotify.com/authorize\"\n",
    "\n",
    "auth_query_params = {\n",
    "    \"response_type\": \"code\",\n",
    "    \"client_id\": CLIENT_ID,\n",
    "    \"redirect_uri\": REDIRECT_URI,\n",
    "    \"scope\": SCOPE,\n",
    "    \"show_dialog\": \"true\"\n",
    "}\n",
    "\n",
    "query_string = urllib.parse.urlencode(auth_query_params)\n",
    "authorization_url = f\"{AUTH_URL}?{query_string}\"\n",
    "\n",
    "print(\"Authorization URL:\", authorization_url)\n"
   ]
  },
  {
   "cell_type": "code",
   "execution_count": 19,
   "id": "8df15fbc",
   "metadata": {},
   "outputs": [],
   "source": [
    "## Click on that link, authorize, then copy the url\n",
    "# Set Authorization_code = to the part of the url that comes after code = "
   ]
  },
  {
   "cell_type": "code",
   "execution_count": 20,
   "id": "b45577c7",
   "metadata": {},
   "outputs": [
    {
     "name": "stdout",
     "output_type": "stream",
     "text": [
      "access_token ='None'\n"
     ]
    }
   ],
   "source": [
    "\n",
    "AUTHORIZATION_CODE = \"\"\n",
    "\n",
    "# Encode client credentials\n",
    "client_creds = f\"{CLIENT_ID}:{CLIENT_SECRET}\"\n",
    "client_creds_b64 = base64.b64encode(client_creds.encode()).decode()\n",
    "\n",
    "# Spotify token URL\n",
    "TOKEN_URL = \"https://accounts.spotify.com/api/token\"\n",
    "\n",
    "# Request headers and body\n",
    "headers = {\n",
    "    \"Authorization\": f\"Basic {client_creds_b64}\"\n",
    "}\n",
    "data = {\n",
    "    \"grant_type\": \"authorization_code\",\n",
    "    \"code\": AUTHORIZATION_CODE,\n",
    "    \"redirect_uri\": REDIRECT_URI\n",
    "}\n",
    "\n",
    "# Request to exchange the authorization code for an access token\n",
    "response = requests.post(TOKEN_URL, headers=headers, data=data)\n",
    "token_info = response.json()\n",
    "\n",
    "# Extract access token and refresh token\n",
    "access_token = token_info.get(\"access_token\")\n",
    "refresh_token = token_info.get(\"refresh_token\")\n",
    "\n",
    "# Print the tokens\n",
    "print(\"access_token ='\", end = \"\")\n",
    "print(access_token, end = \"\")\n",
    "print(\"'\")\n",
    "#print(\"Refresh Token:\", refresh_token)\n"
   ]
  },
  {
   "cell_type": "code",
   "execution_count": null,
   "id": "05a0b3cd",
   "metadata": {},
   "outputs": [],
   "source": []
  }
 ],
 "metadata": {
  "kernelspec": {
   "display_name": "VibeAPI env1",
   "language": "python",
   "name": "myenv"
  },
  "language_info": {
   "codemirror_mode": {
    "name": "ipython",
    "version": 3
   },
   "file_extension": ".py",
   "mimetype": "text/x-python",
   "name": "python",
   "nbconvert_exporter": "python",
   "pygments_lexer": "ipython3",
   "version": "3.10.12"
  }
 },
 "nbformat": 4,
 "nbformat_minor": 5
}
